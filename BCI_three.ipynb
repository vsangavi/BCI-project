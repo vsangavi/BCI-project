{
  "nbformat": 4,
  "nbformat_minor": 0,
  "metadata": {
    "colab": {
      "provenance": []
    },
    "kernelspec": {
      "name": "python3",
      "display_name": "Python 3"
    },
    "language_info": {
      "name": "python"
    }
  },
  "cells": [
    {
      "cell_type": "code",
      "source": [],
      "metadata": {
        "id": "688RtoRJG5S0"
      },
      "execution_count": 7,
      "outputs": []
    },
    {
      "cell_type": "code",
      "source": [],
      "metadata": {
        "id": "1qVlioknG-SE"
      },
      "execution_count": 7,
      "outputs": []
    },
    {
      "cell_type": "code",
      "source": [],
      "metadata": {
        "id": "DQT7DIuJHBlo"
      },
      "execution_count": 7,
      "outputs": []
    },
    {
      "cell_type": "code",
      "execution_count": 10,
      "metadata": {
        "id": "XO3NHDAeNU2Z",
        "colab": {
          "base_uri": "https://localhost:8080/"
        },
        "outputId": "f25bfe8a-facf-46f8-ade8-e1341e0dc1ec"
      },
      "outputs": [
        {
          "output_type": "stream",
          "name": "stdout",
          "text": [
            "         Time:256Hz  Epoch           F3          FC5          AF3  \\\n",
            "0         16.000000      0  4278.461426  4252.436035  4175.256348   \n",
            "1         16.003906      0  4280.512695  4257.307617  4177.563965   \n",
            "2         16.007812      0  4284.230957  4263.461426  4186.282227   \n",
            "3         16.011719      0  4287.307617  4267.563965  4194.487305   \n",
            "4         16.015625      0  4287.820312  4267.436035  4194.743652   \n",
            "...             ...    ...          ...          ...          ...   \n",
            "204795  3518.980469    159  4246.538574  4224.871582  4259.230957   \n",
            "204796  3518.984375    159  4242.563965  4219.102539  4249.743652   \n",
            "204797  3518.988281    159  4238.077148  4219.102539  4236.922852   \n",
            "204798  3518.992188    159  4234.230957  4223.589844  4223.589844   \n",
            "204799  3518.996094    159  4231.410156  4228.846191  4213.333496   \n",
            "\n",
            "                 F7           T7           P7           O1           O2  \\\n",
            "0       4244.230957  4234.743652  4249.230957  4245.000000  4236.538574   \n",
            "1       4241.153809  4233.846191  4249.743652  4244.743652  4237.948730   \n",
            "2       4236.025879  4233.589844  4250.128418  4244.871582  4241.666504   \n",
            "3       4230.384766  4232.948730  4250.128418  4244.743652  4245.128418   \n",
            "4       4226.794922  4230.897461  4249.358887  4243.589844  4245.641113   \n",
            "...             ...          ...          ...          ...          ...   \n",
            "204795  4239.358887  4213.717773  4237.307617  4230.641113  4228.717773   \n",
            "204796  4242.820312  4217.179688  4234.358887  4228.205078  4228.974121   \n",
            "204797  4240.384766  4219.358887  4230.000000  4224.230957  4229.230957   \n",
            "204798  4232.051270  4220.897461  4226.153809  4220.000000  4229.102539   \n",
            "204799  4222.179688  4222.820312  4224.743652  4217.436035  4228.077148   \n",
            "\n",
            "                 P8           T8           F8          AF4          FC6  \\\n",
            "0       4227.307617  4231.025879  4244.358887  4174.230957  4204.615234   \n",
            "1       4229.615234  4222.563965  4234.230957  4157.051270  4208.333496   \n",
            "2       4233.846191  4219.743652  4231.282227  4134.358887  4217.051270   \n",
            "3       4237.692383  4225.769043  4235.128418  4119.230957  4225.769043   \n",
            "4       4238.077148  4237.563965  4242.051270  4123.717773  4227.820312   \n",
            "...             ...          ...          ...          ...          ...   \n",
            "204795  4231.153809  4234.102539  4268.461426  4260.000000  4249.615234   \n",
            "204796  4227.051270  4232.051270  4257.820312  4249.743652  4241.153809   \n",
            "204797  4221.794922  4223.461426  4247.820312  4235.128418  4227.051270   \n",
            "204798  4217.307617  4212.051270  4241.410156  4220.000000  4214.871582   \n",
            "204799  4214.743652  4203.974121  4238.717773  4209.102539  4211.538574   \n",
            "\n",
            "                 F4  Label     Stage  Flag  \n",
            "0       4266.794922  goose  speaking   NaN  \n",
            "1       4272.179688  goose  speaking   NaN  \n",
            "2       4281.538574  goose  speaking   NaN  \n",
            "3       4289.358887  goose  speaking   NaN  \n",
            "4       4289.615234  goose  speaking   NaN  \n",
            "...             ...    ...       ...   ...  \n",
            "204795  4208.974121      s  speaking   NaN  \n",
            "204796  4204.102539      s  speaking   NaN  \n",
            "204797  4195.897461      s  speaking   NaN  \n",
            "204798  4187.436035      s  speaking   NaN  \n",
            "204799  4181.794922      s  speaking   NaN  \n",
            "\n",
            "[204800 rows x 19 columns]\n"
          ]
        }
      ],
      "source": [
        "import pandas as pd\n",
        "from matplotlib import pyplot as plt\n",
        "import numpy as np\n",
        "import seaborn as sns\n",
        "from sklearn.tree import DecisionTreeClassifier # Import Decision Tree Classifier\n",
        "from sklearn.model_selection import train_test_split\n",
        "from sklearn import metrics\n",
        "from sklearn.preprocessing import LabelEncoder\n",
        "\n",
        "df = pd.read_csv('/content/drive/MyDrive/SEM 2/PROJECT/speaking.csv')\n",
        "print(df)"
      ]
    },
    {
      "cell_type": "code",
      "source": [
        "le = LabelEncoder()\n",
        "df['Label'] = le.fit_transform(df['Label'])\n",
        "print(df['Label'])"
      ],
      "metadata": {
        "colab": {
          "base_uri": "https://localhost:8080/"
        },
        "id": "iT2XIWBFOe77",
        "outputId": "7313d547-9e7e-4dd4-ef36-fdd93c27e332"
      },
      "execution_count": 12,
      "outputs": [
        {
          "output_type": "stream",
          "name": "stdout",
          "text": [
            "0         2\n",
            "1         2\n",
            "2         2\n",
            "3         2\n",
            "4         2\n",
            "         ..\n",
            "204795    8\n",
            "204796    8\n",
            "204797    8\n",
            "204798    8\n",
            "204799    8\n",
            "Name: Label, Length: 204800, dtype: int64\n"
          ]
        }
      ]
    },
    {
      "cell_type": "code",
      "source": [],
      "metadata": {
        "id": "VJtK9jOVOvz8"
      },
      "execution_count": null,
      "outputs": []
    },
    {
      "cell_type": "code",
      "source": [
        "feature_cols = ['F3','FC5','AF3','F7','T7','P7','O1','O2','P8','T8','F8','AF4','FC6','F4']\n",
        "label=df['Label']\n",
        "X = df[feature_cols] # Features\n",
        "Y = label # Target variable\n",
        "X_train, X_test, Y_train, Y_test = train_test_split(X, Y, test_size=0.3, random_state=11)\n",
        "clf = DecisionTreeClassifier()\n",
        "# Train Decision Tree Classifier\n",
        "clf = clf.fit(X_train,Y_train)\n",
        "#Predict the response for test dataset\n",
        "Y_pred = clf.predict(X_test)\n",
        "print(\"Accuracy:\",metrics.accuracy_score(Y_test, Y_pred))\n"
      ],
      "metadata": {
        "colab": {
          "base_uri": "https://localhost:8080/"
        },
        "id": "pOQJee68Ov-p",
        "outputId": "b25d1601-1159-4941-9dbb-f66177eded8b"
      },
      "execution_count": 13,
      "outputs": [
        {
          "output_type": "stream",
          "name": "stdout",
          "text": [
            "Accuracy: 0.7145345052083333\n"
          ]
        }
      ]
    }
  ]
}